{
 "cells": [
  {
   "cell_type": "code",
   "execution_count": 1,
   "metadata": {},
   "outputs": [],
   "source": [
    "import pandas as pd\n",
    "data = pd.read_csv(\"../imdb_nlp/data.csv\")"
   ]
  },
  {
   "cell_type": "code",
   "execution_count": 13,
   "metadata": {},
   "outputs": [
    {
     "data": {
      "text/plain": [
       "Index(['review', 'sentiment'], dtype='object')"
      ]
     },
     "execution_count": 13,
     "metadata": {},
     "output_type": "execute_result"
    }
   ],
   "source": []
  },
  {
   "cell_type": "code",
   "execution_count": 3,
   "metadata": {},
   "outputs": [
    {
     "name": "stderr",
     "output_type": "stream",
     "text": [
      "2023-12-28 03:30:10.497309: E external/local_xla/xla/stream_executor/cuda/cuda_dnn.cc:9261] Unable to register cuDNN factory: Attempting to register factory for plugin cuDNN when one has already been registered\n",
      "2023-12-28 03:30:10.497384: E external/local_xla/xla/stream_executor/cuda/cuda_fft.cc:607] Unable to register cuFFT factory: Attempting to register factory for plugin cuFFT when one has already been registered\n",
      "2023-12-28 03:30:10.498860: E external/local_xla/xla/stream_executor/cuda/cuda_blas.cc:1515] Unable to register cuBLAS factory: Attempting to register factory for plugin cuBLAS when one has already been registered\n",
      "2023-12-28 03:30:10.508282: I tensorflow/core/platform/cpu_feature_guard.cc:182] This TensorFlow binary is optimized to use available CPU instructions in performance-critical operations.\n",
      "To enable the following instructions: AVX2 FMA, in other operations, rebuild TensorFlow with the appropriate compiler flags.\n",
      "2023-12-28 03:30:11.666648: W tensorflow/compiler/tf2tensorrt/utils/py_utils.cc:38] TF-TRT Warning: Could not find TensorRT\n"
     ]
    }
   ],
   "source": [
    "import warnings\n",
    "warnings.filterwarnings('ignore')\n",
    "import os\n",
    "\n",
    "# Set the TF_GPU_ALLOCATOR environment variable\n",
    "os.environ['TF_GPU_ALLOCATOR'] = 'cuda_malloc_async'\n",
    "import tensorflow as tf\n",
    "from tensorflow.keras.preprocessing.text import one_hot\n",
    "# export TF_GPU_ALLOCATOR=cuda_malloc_async"
   ]
  },
  {
   "cell_type": "code",
   "execution_count": 4,
   "metadata": {},
   "outputs": [
    {
     "name": "stderr",
     "output_type": "stream",
     "text": [
      "Creating One-Hot Representation: 100%|██████████| 50000/50000 [00:04<00:00, 11103.83it/s]"
     ]
    },
    {
     "name": "stdout",
     "output_type": "stream",
     "text": [
      "[35, 49, 5, 22, 23, 4, 34, 42, 49, 12, 43, 13, 12, 38, 22, 13, 19, 43, 36, 27, 26, 25, 11, 46, 45, 49, 30, 6, 35, 35, 5, 20, 43, 42, 22, 6, 6, 12, 44, 13, 15, 2, 6, 28, 49, 48, 23, 30, 4, 27, 8, 5, 40, 23, 44, 6, 25, 11, 49, 10, 31, 27, 5, 12, 21, 15, 21, 25, 31, 33, 17, 27, 30, 28, 42, 2, 43, 15, 48, 13, 11, 36, 4, 5, 18, 34, 49, 5, 40, 35, 35, 42, 11, 21, 12, 26, 42, 11, 5, 29, 40, 42, 5, 24, 45, 21, 15, 4, 42, 5, 24, 44, 43, 8, 24, 19, 10, 49, 5, 25, 12, 13, 5, 49, 27, 4, 11, 2, 5, 40, 19, 20, 11, 49, 17, 44, 5, 7, 38, 8, 11, 23, 42, 22, 29, 25, 40, 49, 24, 21, 48, 2, 14, 19, 28, 27, 41, 3, 27, 2, 14, 15, 36, 12, 46, 17, 35, 35, 14, 31, 45, 5, 16, 18, 49, 5, 31, 11, 9, 42, 5, 15, 42, 42, 6, 12, 22, 40, 33, 47, 9, 21, 16, 41, 27, 34, 42, 9, 49, 9, 37, 12, 42, 31, 40, 5, 20, 38, 14, 39, 11, 22, 6, 26, 19, 40, 42, 44, 1, 14, 42, 45, 14, 44, 19, 27, 42, 26, 26, 14, 28, 14, 14, 40, 10, 29, 27, 12, 2, 42, 36, 42, 5, 17, 33, 49, 4, 48, 49, 43, 48, 26, 31, 8, 21, 45, 13, 44, 48, 27, 10, 1, 17, 45, 23, 44, 10, 2, 18, 17, 30, 42, 24, 14, 16, 40, 17, 47, 46, 30, 25, 27, 9, 42, 10, 5, 49, 44, 30, 15, 25, 25, 12, 12, 29, 45, 10, 18, 30, 45, 11, 22, 17, 47, 45, 29, 5, 18, 4, 2, 30, 41, 49, 16]\n"
     ]
    },
    {
     "name": "stderr",
     "output_type": "stream",
     "text": [
      "\n"
     ]
    },
    {
     "data": {
      "text/plain": [
       "2493"
      ]
     },
     "execution_count": 4,
     "metadata": {},
     "output_type": "execute_result"
    }
   ],
   "source": [
    "from tqdm import tqdm\n",
    "import time  # Use this line for simulation purposes, remove it in real use.\n",
    "\n",
    "# Assuming you have a function called one_hot defined elsewhere\n",
    "\n",
    "voc_size = \n",
    "onehot_repr = []\n",
    "\n",
    "# Use tqdm to create a progress bar for the loop\n",
    "for words in tqdm(data[\"review\"], desc=\"Creating One-Hot Representation\"):\n",
    "    onehot_repr.append(one_hot(words, voc_size))\n",
    "\n",
    "print(onehot_repr[0])\n",
    "len(max(onehot_repr, key=len))"
   ]
  },
  {
   "cell_type": "code",
   "execution_count": 5,
   "metadata": {},
   "outputs": [],
   "source": [
    "from tensorflow.keras.layers import Embedding\n",
    "from tensorflow.keras.preprocessing.sequence import pad_sequences\n",
    "from tensorflow.keras.models import Sequential"
   ]
  },
  {
   "cell_type": "code",
   "execution_count": 6,
   "metadata": {},
   "outputs": [
    {
     "name": "stdout",
     "output_type": "stream",
     "text": [
      "[ 0  0  0 ... 41 49 16]\n"
     ]
    }
   ],
   "source": [
    "import numpy as np\n",
    "\n",
    "## pre padding\n",
    "sent_length = 2495\n",
    "embedded_docs = pad_sequences(onehot_repr, padding=\"pre\", maxlen=sent_length)\n",
    "print(embedded_docs[0])"
   ]
  },
  {
   "cell_type": "code",
   "execution_count": 7,
   "metadata": {},
   "outputs": [],
   "source": [
    "dim = 100"
   ]
  },
  {
   "cell_type": "code",
   "execution_count": 8,
   "metadata": {},
   "outputs": [
    {
     "name": "stderr",
     "output_type": "stream",
     "text": [
      "2023-12-28 03:30:17.883310: I external/local_xla/xla/stream_executor/cuda/cuda_executor.cc:901] successful NUMA node read from SysFS had negative value (-1), but there must be at least one NUMA node, so returning NUMA node zero. See more at https://github.com/torvalds/linux/blob/v6.0/Documentation/ABI/testing/sysfs-bus-pci#L344-L355\n",
      "2023-12-28 03:30:17.922756: I external/local_xla/xla/stream_executor/cuda/cuda_executor.cc:901] successful NUMA node read from SysFS had negative value (-1), but there must be at least one NUMA node, so returning NUMA node zero. See more at https://github.com/torvalds/linux/blob/v6.0/Documentation/ABI/testing/sysfs-bus-pci#L344-L355\n",
      "2023-12-28 03:30:17.923261: I external/local_xla/xla/stream_executor/cuda/cuda_executor.cc:901] successful NUMA node read from SysFS had negative value (-1), but there must be at least one NUMA node, so returning NUMA node zero. See more at https://github.com/torvalds/linux/blob/v6.0/Documentation/ABI/testing/sysfs-bus-pci#L344-L355\n",
      "2023-12-28 03:30:17.926293: I external/local_xla/xla/stream_executor/cuda/cuda_executor.cc:901] successful NUMA node read from SysFS had negative value (-1), but there must be at least one NUMA node, so returning NUMA node zero. See more at https://github.com/torvalds/linux/blob/v6.0/Documentation/ABI/testing/sysfs-bus-pci#L344-L355\n",
      "2023-12-28 03:30:17.926776: I external/local_xla/xla/stream_executor/cuda/cuda_executor.cc:901] successful NUMA node read from SysFS had negative value (-1), but there must be at least one NUMA node, so returning NUMA node zero. See more at https://github.com/torvalds/linux/blob/v6.0/Documentation/ABI/testing/sysfs-bus-pci#L344-L355\n",
      "2023-12-28 03:30:17.927174: I external/local_xla/xla/stream_executor/cuda/cuda_executor.cc:901] successful NUMA node read from SysFS had negative value (-1), but there must be at least one NUMA node, so returning NUMA node zero. See more at https://github.com/torvalds/linux/blob/v6.0/Documentation/ABI/testing/sysfs-bus-pci#L344-L355\n",
      "2023-12-28 03:30:18.031737: I external/local_xla/xla/stream_executor/cuda/cuda_executor.cc:901] successful NUMA node read from SysFS had negative value (-1), but there must be at least one NUMA node, so returning NUMA node zero. See more at https://github.com/torvalds/linux/blob/v6.0/Documentation/ABI/testing/sysfs-bus-pci#L344-L355\n",
      "2023-12-28 03:30:18.032032: I external/local_xla/xla/stream_executor/cuda/cuda_executor.cc:901] successful NUMA node read from SysFS had negative value (-1), but there must be at least one NUMA node, so returning NUMA node zero. See more at https://github.com/torvalds/linux/blob/v6.0/Documentation/ABI/testing/sysfs-bus-pci#L344-L355\n",
      "2023-12-28 03:30:18.032192: I tensorflow/core/common_runtime/gpu/gpu_process_state.cc:236] Using CUDA malloc Async allocator for GPU: 0\n",
      "2023-12-28 03:30:18.032364: I external/local_xla/xla/stream_executor/cuda/cuda_executor.cc:901] successful NUMA node read from SysFS had negative value (-1), but there must be at least one NUMA node, so returning NUMA node zero. See more at https://github.com/torvalds/linux/blob/v6.0/Documentation/ABI/testing/sysfs-bus-pci#L344-L355\n",
      "2023-12-28 03:30:18.032524: I tensorflow/core/common_runtime/gpu/gpu_device.cc:1929] Created device /job:localhost/replica:0/task:0/device:GPU:0 with 2794 MB memory:  -> device: 0, name: NVIDIA GeForce GTX 1650, pci bus id: 0000:01:00.0, compute capability: 7.5\n"
     ]
    }
   ],
   "source": [
    "model = Sequential()\n",
    "model.add(Embedding(voc_size, dim, input_length=sent_length))\n",
    "model.compile(\"adam\", \"mse\")"
   ]
  },
  {
   "cell_type": "code",
   "execution_count": 9,
   "metadata": {},
   "outputs": [
    {
     "name": "stdout",
     "output_type": "stream",
     "text": [
      "Model: \"sequential\"\n",
      "_________________________________________________________________\n",
      " Layer (type)                Output Shape              Param #   \n",
      "=================================================================\n",
      " embedding (Embedding)       (None, 2495, 10)          500       \n",
      "                                                                 \n",
      "=================================================================\n",
      "Total params: 500 (1.95 KB)\n",
      "Trainable params: 500 (1.95 KB)\n",
      "Non-trainable params: 0 (0.00 Byte)\n",
      "_________________________________________________________________\n"
     ]
    }
   ],
   "source": [
    "model.summary()"
   ]
  },
  {
   "cell_type": "code",
   "execution_count": 10,
   "metadata": {},
   "outputs": [
    {
     "name": "stdout",
     "output_type": "stream",
     "text": [
      "1252/1563 [=======================>......] - ETA: 0s"
     ]
    },
    {
     "name": "stderr",
     "output_type": "stream",
     "text": [
      "2023-12-28 03:30:21.165161: E external/local_xla/xla/stream_executor/gpu/gpu_cudamallocasync_allocator.cc:306] gpu_async_0 cuMemAllocAsync failed to allocate 3193600 bytes: CUDA error: out of memory (CUDA_ERROR_OUT_OF_MEMORY)\n",
      " Reported by CUDA: Free memory/Total memory: 2752512/4096196608\n",
      "2023-12-28 03:30:21.165225: E external/local_xla/xla/stream_executor/gpu/gpu_cudamallocasync_allocator.cc:311] Stats: Limit:                      2930376704\n",
      "InUse:                      4024258452\n",
      "MaxInUse:                   4024577812\n",
      "NumAllocs:                        5061\n",
      "MaxAllocSize:                  3193600\n",
      "Reserved:                            0\n",
      "PeakReserved:                        0\n",
      "LargestFreeBlock:                    0\n",
      "\n",
      "2023-12-28 03:30:21.165300: E external/local_xla/xla/stream_executor/gpu/gpu_cudamallocasync_allocator.cc:63] Histogram of current allocation: (allocation_size_in_bytes, nb_allocation_of_that_sizes), ...;\n",
      "2023-12-28 03:30:21.165323: E external/local_xla/xla/stream_executor/gpu/gpu_cudamallocasync_allocator.cc:66] 4, 6\n",
      "2023-12-28 03:30:21.165341: E external/local_xla/xla/stream_executor/gpu/gpu_cudamallocasync_allocator.cc:66] 8, 5\n",
      "2023-12-28 03:30:21.165356: E external/local_xla/xla/stream_executor/gpu/gpu_cudamallocasync_allocator.cc:66] 1028, 1\n",
      "2023-12-28 03:30:21.165372: E external/local_xla/xla/stream_executor/gpu/gpu_cudamallocasync_allocator.cc:66] 2000, 1\n",
      "2023-12-28 03:30:21.165386: E external/local_xla/xla/stream_executor/gpu/gpu_cudamallocasync_allocator.cc:66] 319360, 1\n",
      "2023-12-28 03:30:21.165397: E external/local_xla/xla/stream_executor/gpu/gpu_cudamallocasync_allocator.cc:66] 3193600, 1260\n",
      "2023-12-28 03:30:21.165412: E external/local_xla/xla/stream_executor/gpu/gpu_cudamallocasync_allocator.cc:97] CU_MEMPOOL_ATTR_RESERVED_MEM_CURRENT: 4026531840\n",
      "2023-12-28 03:30:21.165425: E external/local_xla/xla/stream_executor/gpu/gpu_cudamallocasync_allocator.cc:99] CU_MEMPOOL_ATTR_USED_MEM_CURRENT: 4024258452\n",
      "2023-12-28 03:30:21.165438: E external/local_xla/xla/stream_executor/gpu/gpu_cudamallocasync_allocator.cc:100] CU_MEMPOOL_ATTR_RESERVED_MEM_HIGH: 4026531840\n",
      "2023-12-28 03:30:21.165454: E external/local_xla/xla/stream_executor/gpu/gpu_cudamallocasync_allocator.cc:101] CU_MEMPOOL_ATTR_USED_MEM_HIGH: 4024577812\n",
      "2023-12-28 03:30:21.165483: W tensorflow/core/framework/op_kernel.cc:1839] OP_REQUIRES failed at resource_variable_ops.cc:769 : RESOURCE_EXHAUSTED: OOM when allocating tensor with shape[32,2495,10] and type float on /job:localhost/replica:0/task:0/device:GPU:0 by allocator gpu_async_0\n"
     ]
    },
    {
     "ename": "ResourceExhaustedError",
     "evalue": "Graph execution error:\n\nDetected at node sequential/embedding/embedding_lookup defined at (most recent call last):\n  File \"/home/skynet/miniforge3/envs/tf/lib/python3.9/runpy.py\", line 197, in _run_module_as_main\n\n  File \"/home/skynet/miniforge3/envs/tf/lib/python3.9/runpy.py\", line 87, in _run_code\n\n  File \"/home/skynet/miniforge3/envs/tf/lib/python3.9/site-packages/ipykernel_launcher.py\", line 17, in <module>\n\n  File \"/home/skynet/miniforge3/envs/tf/lib/python3.9/site-packages/traitlets/config/application.py\", line 1077, in launch_instance\n\n  File \"/home/skynet/miniforge3/envs/tf/lib/python3.9/site-packages/ipykernel/kernelapp.py\", line 737, in start\n\n  File \"/home/skynet/miniforge3/envs/tf/lib/python3.9/site-packages/tornado/platform/asyncio.py\", line 195, in start\n\n  File \"/home/skynet/miniforge3/envs/tf/lib/python3.9/asyncio/base_events.py\", line 601, in run_forever\n\n  File \"/home/skynet/miniforge3/envs/tf/lib/python3.9/asyncio/base_events.py\", line 1905, in _run_once\n\n  File \"/home/skynet/miniforge3/envs/tf/lib/python3.9/asyncio/events.py\", line 80, in _run\n\n  File \"/home/skynet/miniforge3/envs/tf/lib/python3.9/site-packages/ipykernel/kernelbase.py\", line 524, in dispatch_queue\n\n  File \"/home/skynet/miniforge3/envs/tf/lib/python3.9/site-packages/ipykernel/kernelbase.py\", line 513, in process_one\n\n  File \"/home/skynet/miniforge3/envs/tf/lib/python3.9/site-packages/ipykernel/kernelbase.py\", line 418, in dispatch_shell\n\n  File \"/home/skynet/miniforge3/envs/tf/lib/python3.9/site-packages/ipykernel/kernelbase.py\", line 758, in execute_request\n\n  File \"/home/skynet/miniforge3/envs/tf/lib/python3.9/site-packages/ipykernel/ipkernel.py\", line 426, in do_execute\n\n  File \"/home/skynet/miniforge3/envs/tf/lib/python3.9/site-packages/ipykernel/zmqshell.py\", line 549, in run_cell\n\n  File \"/home/skynet/miniforge3/envs/tf/lib/python3.9/site-packages/IPython/core/interactiveshell.py\", line 3006, in run_cell\n\n  File \"/home/skynet/miniforge3/envs/tf/lib/python3.9/site-packages/IPython/core/interactiveshell.py\", line 3061, in _run_cell\n\n  File \"/home/skynet/miniforge3/envs/tf/lib/python3.9/site-packages/IPython/core/async_helpers.py\", line 129, in _pseudo_sync_runner\n\n  File \"/home/skynet/miniforge3/envs/tf/lib/python3.9/site-packages/IPython/core/interactiveshell.py\", line 3266, in run_cell_async\n\n  File \"/home/skynet/miniforge3/envs/tf/lib/python3.9/site-packages/IPython/core/interactiveshell.py\", line 3445, in run_ast_nodes\n\n  File \"/home/skynet/miniforge3/envs/tf/lib/python3.9/site-packages/IPython/core/interactiveshell.py\", line 3505, in run_code\n\n  File \"/tmp/ipykernel_80051/2807431434.py\", line 1, in <module>\n\n  File \"/home/skynet/miniforge3/envs/tf/lib/python3.9/site-packages/keras/src/utils/traceback_utils.py\", line 65, in error_handler\n\n  File \"/home/skynet/miniforge3/envs/tf/lib/python3.9/site-packages/keras/src/engine/training.py\", line 2655, in predict\n\n  File \"/home/skynet/miniforge3/envs/tf/lib/python3.9/site-packages/keras/src/engine/training.py\", line 2440, in predict_function\n\n  File \"/home/skynet/miniforge3/envs/tf/lib/python3.9/site-packages/keras/src/engine/training.py\", line 2425, in step_function\n\n  File \"/home/skynet/miniforge3/envs/tf/lib/python3.9/site-packages/keras/src/engine/training.py\", line 2413, in run_step\n\n  File \"/home/skynet/miniforge3/envs/tf/lib/python3.9/site-packages/keras/src/engine/training.py\", line 2381, in predict_step\n\n  File \"/home/skynet/miniforge3/envs/tf/lib/python3.9/site-packages/keras/src/utils/traceback_utils.py\", line 65, in error_handler\n\n  File \"/home/skynet/miniforge3/envs/tf/lib/python3.9/site-packages/keras/src/engine/training.py\", line 590, in __call__\n\n  File \"/home/skynet/miniforge3/envs/tf/lib/python3.9/site-packages/keras/src/utils/traceback_utils.py\", line 65, in error_handler\n\n  File \"/home/skynet/miniforge3/envs/tf/lib/python3.9/site-packages/keras/src/engine/base_layer.py\", line 1149, in __call__\n\n  File \"/home/skynet/miniforge3/envs/tf/lib/python3.9/site-packages/keras/src/utils/traceback_utils.py\", line 96, in error_handler\n\n  File \"/home/skynet/miniforge3/envs/tf/lib/python3.9/site-packages/keras/src/engine/sequential.py\", line 398, in call\n\n  File \"/home/skynet/miniforge3/envs/tf/lib/python3.9/site-packages/keras/src/engine/functional.py\", line 515, in call\n\n  File \"/home/skynet/miniforge3/envs/tf/lib/python3.9/site-packages/keras/src/engine/functional.py\", line 672, in _run_internal_graph\n\n  File \"/home/skynet/miniforge3/envs/tf/lib/python3.9/site-packages/keras/src/utils/traceback_utils.py\", line 65, in error_handler\n\n  File \"/home/skynet/miniforge3/envs/tf/lib/python3.9/site-packages/keras/src/engine/base_layer.py\", line 1149, in __call__\n\n  File \"/home/skynet/miniforge3/envs/tf/lib/python3.9/site-packages/keras/src/utils/traceback_utils.py\", line 96, in error_handler\n\n  File \"/home/skynet/miniforge3/envs/tf/lib/python3.9/site-packages/keras/src/layers/core/embedding.py\", line 272, in call\n\nOOM when allocating tensor with shape[32,2495,10] and type float on /job:localhost/replica:0/task:0/device:GPU:0 by allocator gpu_async_0\n\t [[{{node sequential/embedding/embedding_lookup}}]]\nHint: If you want to see a list of allocated tensors when OOM happens, add report_tensor_allocations_upon_oom to RunOptions for current allocation info. This isn't available when running in Eager mode.\n [Op:__inference_predict_function_127]",
     "output_type": "error",
     "traceback": [
      "\u001b[0;31m---------------------------------------------------------------------------\u001b[0m",
      "\u001b[0;31mResourceExhaustedError\u001b[0m                    Traceback (most recent call last)",
      "Cell \u001b[0;32mIn[10], line 1\u001b[0m\n\u001b[0;32m----> 1\u001b[0m \u001b[38;5;28mprint\u001b[39m(\u001b[43mmodel\u001b[49m\u001b[38;5;241;43m.\u001b[39;49m\u001b[43mpredict\u001b[49m\u001b[43m(\u001b[49m\u001b[43membedded_docs\u001b[49m\u001b[43m)\u001b[49m)\n",
      "File \u001b[0;32m~/miniforge3/envs/tf/lib/python3.9/site-packages/keras/src/utils/traceback_utils.py:70\u001b[0m, in \u001b[0;36mfilter_traceback.<locals>.error_handler\u001b[0;34m(*args, **kwargs)\u001b[0m\n\u001b[1;32m     67\u001b[0m     filtered_tb \u001b[38;5;241m=\u001b[39m _process_traceback_frames(e\u001b[38;5;241m.\u001b[39m__traceback__)\n\u001b[1;32m     68\u001b[0m     \u001b[38;5;66;03m# To get the full stack trace, call:\u001b[39;00m\n\u001b[1;32m     69\u001b[0m     \u001b[38;5;66;03m# `tf.debugging.disable_traceback_filtering()`\u001b[39;00m\n\u001b[0;32m---> 70\u001b[0m     \u001b[38;5;28;01mraise\u001b[39;00m e\u001b[38;5;241m.\u001b[39mwith_traceback(filtered_tb) \u001b[38;5;28;01mfrom\u001b[39;00m \u001b[38;5;28;01mNone\u001b[39;00m\n\u001b[1;32m     71\u001b[0m \u001b[38;5;28;01mfinally\u001b[39;00m:\n\u001b[1;32m     72\u001b[0m     \u001b[38;5;28;01mdel\u001b[39;00m filtered_tb\n",
      "File \u001b[0;32m~/miniforge3/envs/tf/lib/python3.9/site-packages/tensorflow/python/eager/execute.py:53\u001b[0m, in \u001b[0;36mquick_execute\u001b[0;34m(op_name, num_outputs, inputs, attrs, ctx, name)\u001b[0m\n\u001b[1;32m     51\u001b[0m \u001b[38;5;28;01mtry\u001b[39;00m:\n\u001b[1;32m     52\u001b[0m   ctx\u001b[38;5;241m.\u001b[39mensure_initialized()\n\u001b[0;32m---> 53\u001b[0m   tensors \u001b[38;5;241m=\u001b[39m pywrap_tfe\u001b[38;5;241m.\u001b[39mTFE_Py_Execute(ctx\u001b[38;5;241m.\u001b[39m_handle, device_name, op_name,\n\u001b[1;32m     54\u001b[0m                                       inputs, attrs, num_outputs)\n\u001b[1;32m     55\u001b[0m \u001b[38;5;28;01mexcept\u001b[39;00m core\u001b[38;5;241m.\u001b[39m_NotOkStatusException \u001b[38;5;28;01mas\u001b[39;00m e:\n\u001b[1;32m     56\u001b[0m   \u001b[38;5;28;01mif\u001b[39;00m name \u001b[38;5;129;01mis\u001b[39;00m \u001b[38;5;129;01mnot\u001b[39;00m \u001b[38;5;28;01mNone\u001b[39;00m:\n",
      "\u001b[0;31mResourceExhaustedError\u001b[0m: Graph execution error:\n\nDetected at node sequential/embedding/embedding_lookup defined at (most recent call last):\n  File \"/home/skynet/miniforge3/envs/tf/lib/python3.9/runpy.py\", line 197, in _run_module_as_main\n\n  File \"/home/skynet/miniforge3/envs/tf/lib/python3.9/runpy.py\", line 87, in _run_code\n\n  File \"/home/skynet/miniforge3/envs/tf/lib/python3.9/site-packages/ipykernel_launcher.py\", line 17, in <module>\n\n  File \"/home/skynet/miniforge3/envs/tf/lib/python3.9/site-packages/traitlets/config/application.py\", line 1077, in launch_instance\n\n  File \"/home/skynet/miniforge3/envs/tf/lib/python3.9/site-packages/ipykernel/kernelapp.py\", line 737, in start\n\n  File \"/home/skynet/miniforge3/envs/tf/lib/python3.9/site-packages/tornado/platform/asyncio.py\", line 195, in start\n\n  File \"/home/skynet/miniforge3/envs/tf/lib/python3.9/asyncio/base_events.py\", line 601, in run_forever\n\n  File \"/home/skynet/miniforge3/envs/tf/lib/python3.9/asyncio/base_events.py\", line 1905, in _run_once\n\n  File \"/home/skynet/miniforge3/envs/tf/lib/python3.9/asyncio/events.py\", line 80, in _run\n\n  File \"/home/skynet/miniforge3/envs/tf/lib/python3.9/site-packages/ipykernel/kernelbase.py\", line 524, in dispatch_queue\n\n  File \"/home/skynet/miniforge3/envs/tf/lib/python3.9/site-packages/ipykernel/kernelbase.py\", line 513, in process_one\n\n  File \"/home/skynet/miniforge3/envs/tf/lib/python3.9/site-packages/ipykernel/kernelbase.py\", line 418, in dispatch_shell\n\n  File \"/home/skynet/miniforge3/envs/tf/lib/python3.9/site-packages/ipykernel/kernelbase.py\", line 758, in execute_request\n\n  File \"/home/skynet/miniforge3/envs/tf/lib/python3.9/site-packages/ipykernel/ipkernel.py\", line 426, in do_execute\n\n  File \"/home/skynet/miniforge3/envs/tf/lib/python3.9/site-packages/ipykernel/zmqshell.py\", line 549, in run_cell\n\n  File \"/home/skynet/miniforge3/envs/tf/lib/python3.9/site-packages/IPython/core/interactiveshell.py\", line 3006, in run_cell\n\n  File \"/home/skynet/miniforge3/envs/tf/lib/python3.9/site-packages/IPython/core/interactiveshell.py\", line 3061, in _run_cell\n\n  File \"/home/skynet/miniforge3/envs/tf/lib/python3.9/site-packages/IPython/core/async_helpers.py\", line 129, in _pseudo_sync_runner\n\n  File \"/home/skynet/miniforge3/envs/tf/lib/python3.9/site-packages/IPython/core/interactiveshell.py\", line 3266, in run_cell_async\n\n  File \"/home/skynet/miniforge3/envs/tf/lib/python3.9/site-packages/IPython/core/interactiveshell.py\", line 3445, in run_ast_nodes\n\n  File \"/home/skynet/miniforge3/envs/tf/lib/python3.9/site-packages/IPython/core/interactiveshell.py\", line 3505, in run_code\n\n  File \"/tmp/ipykernel_80051/2807431434.py\", line 1, in <module>\n\n  File \"/home/skynet/miniforge3/envs/tf/lib/python3.9/site-packages/keras/src/utils/traceback_utils.py\", line 65, in error_handler\n\n  File \"/home/skynet/miniforge3/envs/tf/lib/python3.9/site-packages/keras/src/engine/training.py\", line 2655, in predict\n\n  File \"/home/skynet/miniforge3/envs/tf/lib/python3.9/site-packages/keras/src/engine/training.py\", line 2440, in predict_function\n\n  File \"/home/skynet/miniforge3/envs/tf/lib/python3.9/site-packages/keras/src/engine/training.py\", line 2425, in step_function\n\n  File \"/home/skynet/miniforge3/envs/tf/lib/python3.9/site-packages/keras/src/engine/training.py\", line 2413, in run_step\n\n  File \"/home/skynet/miniforge3/envs/tf/lib/python3.9/site-packages/keras/src/engine/training.py\", line 2381, in predict_step\n\n  File \"/home/skynet/miniforge3/envs/tf/lib/python3.9/site-packages/keras/src/utils/traceback_utils.py\", line 65, in error_handler\n\n  File \"/home/skynet/miniforge3/envs/tf/lib/python3.9/site-packages/keras/src/engine/training.py\", line 590, in __call__\n\n  File \"/home/skynet/miniforge3/envs/tf/lib/python3.9/site-packages/keras/src/utils/traceback_utils.py\", line 65, in error_handler\n\n  File \"/home/skynet/miniforge3/envs/tf/lib/python3.9/site-packages/keras/src/engine/base_layer.py\", line 1149, in __call__\n\n  File \"/home/skynet/miniforge3/envs/tf/lib/python3.9/site-packages/keras/src/utils/traceback_utils.py\", line 96, in error_handler\n\n  File \"/home/skynet/miniforge3/envs/tf/lib/python3.9/site-packages/keras/src/engine/sequential.py\", line 398, in call\n\n  File \"/home/skynet/miniforge3/envs/tf/lib/python3.9/site-packages/keras/src/engine/functional.py\", line 515, in call\n\n  File \"/home/skynet/miniforge3/envs/tf/lib/python3.9/site-packages/keras/src/engine/functional.py\", line 672, in _run_internal_graph\n\n  File \"/home/skynet/miniforge3/envs/tf/lib/python3.9/site-packages/keras/src/utils/traceback_utils.py\", line 65, in error_handler\n\n  File \"/home/skynet/miniforge3/envs/tf/lib/python3.9/site-packages/keras/src/engine/base_layer.py\", line 1149, in __call__\n\n  File \"/home/skynet/miniforge3/envs/tf/lib/python3.9/site-packages/keras/src/utils/traceback_utils.py\", line 96, in error_handler\n\n  File \"/home/skynet/miniforge3/envs/tf/lib/python3.9/site-packages/keras/src/layers/core/embedding.py\", line 272, in call\n\nOOM when allocating tensor with shape[32,2495,10] and type float on /job:localhost/replica:0/task:0/device:GPU:0 by allocator gpu_async_0\n\t [[{{node sequential/embedding/embedding_lookup}}]]\nHint: If you want to see a list of allocated tensors when OOM happens, add report_tensor_allocations_upon_oom to RunOptions for current allocation info. This isn't available when running in Eager mode.\n [Op:__inference_predict_function_127]"
     ]
    }
   ],
   "source": [
    "print(model.predict(embedded_docs))"
   ]
  },
  {
   "cell_type": "code",
   "execution_count": null,
   "metadata": {},
   "outputs": [],
   "source": []
  }
 ],
 "metadata": {
  "kernelspec": {
   "display_name": "tf",
   "language": "python",
   "name": "python3"
  },
  "language_info": {
   "codemirror_mode": {
    "name": "ipython",
    "version": 3
   },
   "file_extension": ".py",
   "mimetype": "text/x-python",
   "name": "python",
   "nbconvert_exporter": "python",
   "pygments_lexer": "ipython3",
   "version": "3.9.18"
  }
 },
 "nbformat": 4,
 "nbformat_minor": 2
}
