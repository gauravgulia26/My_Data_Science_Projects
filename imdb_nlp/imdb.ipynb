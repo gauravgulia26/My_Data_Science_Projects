{
 "cells": [
  {
   "cell_type": "code",
   "execution_count": 1,
   "metadata": {},
   "outputs": [
    {
     "name": "stdout",
     "output_type": "stream",
     "text": [
      "Stored 'data' (DataFrame)\n"
     ]
    }
   ],
   "source": [
    "import pandas as pd\n",
    "data = pd.read_csv('data.csv')\n",
    "%store data"
   ]
  },
  {
   "cell_type": "code",
   "execution_count": 2,
   "metadata": {},
   "outputs": [
    {
     "data": {
      "text/html": [
       "<div>\n",
       "<style scoped>\n",
       "    .dataframe tbody tr th:only-of-type {\n",
       "        vertical-align: middle;\n",
       "    }\n",
       "\n",
       "    .dataframe tbody tr th {\n",
       "        vertical-align: top;\n",
       "    }\n",
       "\n",
       "    .dataframe thead th {\n",
       "        text-align: right;\n",
       "    }\n",
       "</style>\n",
       "<table border=\"1\" class=\"dataframe\">\n",
       "  <thead>\n",
       "    <tr style=\"text-align: right;\">\n",
       "      <th></th>\n",
       "      <th>review</th>\n",
       "      <th>sentiment</th>\n",
       "    </tr>\n",
       "  </thead>\n",
       "  <tbody>\n",
       "    <tr>\n",
       "      <th>0</th>\n",
       "      <td>One of the other reviewers has mentioned that ...</td>\n",
       "      <td>positive</td>\n",
       "    </tr>\n",
       "    <tr>\n",
       "      <th>1</th>\n",
       "      <td>A wonderful little production. &lt;br /&gt;&lt;br /&gt;The...</td>\n",
       "      <td>positive</td>\n",
       "    </tr>\n",
       "    <tr>\n",
       "      <th>2</th>\n",
       "      <td>I thought this was a wonderful way to spend ti...</td>\n",
       "      <td>positive</td>\n",
       "    </tr>\n",
       "    <tr>\n",
       "      <th>3</th>\n",
       "      <td>Basically there's a family where a little boy ...</td>\n",
       "      <td>negative</td>\n",
       "    </tr>\n",
       "    <tr>\n",
       "      <th>4</th>\n",
       "      <td>Petter Mattei's \"Love in the Time of Money\" is...</td>\n",
       "      <td>positive</td>\n",
       "    </tr>\n",
       "  </tbody>\n",
       "</table>\n",
       "</div>"
      ],
      "text/plain": [
       "                                              review sentiment\n",
       "0  One of the other reviewers has mentioned that ...  positive\n",
       "1  A wonderful little production. <br /><br />The...  positive\n",
       "2  I thought this was a wonderful way to spend ti...  positive\n",
       "3  Basically there's a family where a little boy ...  negative\n",
       "4  Petter Mattei's \"Love in the Time of Money\" is...  positive"
      ]
     },
     "execution_count": 2,
     "metadata": {},
     "output_type": "execute_result"
    }
   ],
   "source": [
    "data.head()"
   ]
  },
  {
   "cell_type": "code",
   "execution_count": 3,
   "metadata": {},
   "outputs": [
    {
     "name": "stderr",
     "output_type": "stream",
     "text": [
      "[nltk_data] Downloading package punkt to /home/skynet/nltk_data...\n",
      "[nltk_data]   Package punkt is already up-to-date!\n",
      "[nltk_data] Downloading package stopwords to /home/skynet/nltk_data...\n",
      "[nltk_data]   Package stopwords is already up-to-date!\n",
      "[nltk_data] Downloading package wordnet to /home/skynet/nltk_data...\n",
      "[nltk_data]   Package wordnet is already up-to-date!\n"
     ]
    },
    {
     "data": {
      "text/plain": [
       "True"
      ]
     },
     "execution_count": 3,
     "metadata": {},
     "output_type": "execute_result"
    }
   ],
   "source": [
    "import nltk\n",
    "nltk.download('punkt')\n",
    "nltk.download('stopwords')\n",
    "nltk.download('wordnet')"
   ]
  },
  {
   "cell_type": "code",
   "execution_count": 4,
   "metadata": {},
   "outputs": [
    {
     "name": "stderr",
     "output_type": "stream",
     "text": [
      "Processing reviews: 100%|██████████| 50000/50000 [20:11<00:00, 41.28it/s]\n"
     ]
    },
    {
     "data": {
      "text/plain": [
       "['wonderful little production br br filming technique unassuming old time bbc fashion give comforting sometimes discomforting sense realism entire piece br br actor extremely well chosen michael sheen got polari voice pat truly see seamless editing guided reference williams diary entry well worth watching terrificly written performed piece masterful production one great master comedy life br br realism really come home little thing fantasy guard rather use traditional dream technique remains solid disappears play knowledge sens particularly scene concerning orton halliwell set particularly flat halliwell mural decorating every surface terribly well done',\n",
       " 'thought wonderful way spend time hot summer weekend sitting air conditioned theater watching light hearted comedy plot simplistic dialogue witty character likable even well bread suspected serial killer may disappointed realize match point risk addiction thought proof woody allen still fully control style many u grown love br br laughed one woody comedy year dare say decade never impressed scarlet johanson managed tone sexy image jumped right average spirited young woman br br may crown jewel career wittier devil wear prada interesting superman great comedy go see friend',\n",
       " 'basically family little boy jake think zombie closet parent fighting time br br movie slower soap opera suddenly jake decides become rambo kill zombie br br ok first going make film must decide thriller drama drama movie watchable parent divorcing arguing like real life jake closet totally ruin film expected see boogeyman similar movie instead watched drama meaningless thriller spot br br well playing parent descent dialog shot jake ignore',\n",
       " 'petter mattei love time money visually stunning film watch mr mattei offer u vivid portrait human relation movie seems telling u money power success people different situation encounter br br variation arthur schnitzler play theme director transfer action present time new york different character meet connect one connected one way another next person one seems know previous point contact stylishly film sophisticated luxurious look taken see people live world live habitat br br thing one get soul picture different stage loneliness one inhabits big city exactly best place human relation find sincere fulfillment one discerns case people encounter br br acting good mr mattei direction steve buscemi rosario dawson carol kane michael imperioli adrian grenier rest talented cast make character come alive br br wish mr mattei good luck await anxiously next work',\n",
       " 'probably time favorite movie story selflessness sacrifice dedication noble cause preachy boring never get old despite seen time last year paul lukas performance brings tear eye bette davis one truly sympathetic role delight kid grandma say like dressed midget child make fun watch mother slow awakening happening world roof believable startling dozen thumb movie',\n",
       " 'sure would like see resurrection dated seahunt series tech today would bring back kid excitement grew black white tv seahunt gunsmoke hero every week vote comeback new sea hunt need change pace tv would work world water adventure oh way thank outlet like view many viewpoint tv many movie ole way believe got wan na say would nice read plus point sea hunt rhyme would line would let submit leave doubt quit must go let',\n",
       " 'show amazing fresh innovative idea first aired first year brilliant thing dropped show really funny anymore continued decline complete waste time today br br truly disgraceful far show fallen writing painfully bad performance almost bad mildly entertaining respite guest host show probably still air find hard believe creator hand selected original cast also chose band hack followed one recognize brilliance see fit replace mediocrity felt must give star respect original cast made show huge success show awful believe still air',\n",
       " 'encouraged positive comment film looking forward watching film bad mistake seen film truly one worst awful almost every way editing pacing storyline acting soundtrack film song lame country tune played le four time film look cheap nasty boring extreme rarely happy see end credit film br br thing prevents giving score harvey keitel far best performance least seems making bit effort one keitel obsessive',\n",
       " 'like original gut wrenching laughter like movie young old love movie hell even mom liked br br great camp',\n",
       " 'phil alien one quirky film humour based around oddness everything rather actual punchlines br br first odd pretty funny movie progressed find joke oddness funny anymore br br low budget film thats never problem pretty interesting character eventually lost interest br br imagine film would appeal stoner currently partaking br br something similar better try brother another planet']"
      ]
     },
     "execution_count": 4,
     "metadata": {},
     "output_type": "execute_result"
    }
   ],
   "source": [
    "import re\n",
    "from nltk.corpus import stopwords\n",
    "from nltk.tokenize import word_tokenize\n",
    "from nltk.stem import WordNetLemmatizer\n",
    "from tqdm import tqdm\n",
    "\n",
    "\n",
    "def preprocess_text(messages):\n",
    "    corpus = []\n",
    "    lemmatizer = WordNetLemmatizer()\n",
    "\n",
    "    # Use tqdm to add a progress bar to the loop\n",
    "    for sentence in tqdm(messages[\"review\"], desc=\"Processing reviews\"):\n",
    "        sentence = re.sub(\"[^a-zA-Z]\", \" \", sentence.lower())\n",
    "        words = word_tokenize(sentence)\n",
    "        lemmatized_words = [\n",
    "            lemmatizer.lemmatize(word)\n",
    "            for word in words\n",
    "            if word not in set(stopwords.words(\"english\"))\n",
    "        ]\n",
    "        lemmatized_review = \" \".join(lemmatized_words)\n",
    "        corpus.append(lemmatized_review)\n",
    "\n",
    "    return corpus\n",
    "\n",
    "\n",
    "\n",
    "corpus = preprocess_text(data)\n",
    "corpus[1:11]"
   ]
  },
  {
   "cell_type": "code",
   "execution_count": 5,
   "metadata": {},
   "outputs": [],
   "source": [
    "# from nltk import sent_tokenize\n",
    "# from nltk import WordNetLemmatizer\n",
    "# from gensim.utils import simple_preprocess\n",
    "\n",
    "# words = []\n",
    "# for _ in corpus:\n",
    "#     sent_token = sent_tokenize(_)\n",
    "#     for __ in sent_token:\n",
    "#         words.append(simple_preprocess(__))"
   ]
  },
  {
   "cell_type": "code",
   "execution_count": 6,
   "metadata": {},
   "outputs": [],
   "source": [
    "import gensim\n",
    "# models = gensim.models.Word2Vec(\n",
    "#     words, vector_size=300, window=21, min_count=2, epochs=100\n",
    "# )\n",
    "# loading the model\n",
    "models = gensim.models.Word2Vec.load(\"word2vec.model\")"
   ]
  },
  {
   "cell_type": "code",
   "execution_count": 7,
   "metadata": {},
   "outputs": [],
   "source": [
    "# get the vocabulary\n",
    "vocabulary = models.wv.key_to_index"
   ]
  },
  {
   "cell_type": "code",
   "execution_count": 8,
   "metadata": {},
   "outputs": [
    {
     "data": {
      "text/plain": [
       "54969"
      ]
     },
     "execution_count": 8,
     "metadata": {},
     "output_type": "execute_result"
    }
   ],
   "source": [
    "len(vocabulary)"
   ]
  },
  {
   "cell_type": "code",
   "execution_count": 9,
   "metadata": {},
   "outputs": [
    {
     "data": {
      "text/plain": [
       "[('great', 0.6357738971710205),\n",
       " ('bad', 0.5855804085731506),\n",
       " ('nice', 0.5798599123954773),\n",
       " ('really', 0.5667163729667664),\n",
       " ('decent', 0.5639677047729492),\n",
       " ('liked', 0.5442432165145874),\n",
       " ('ok', 0.5278295874595642),\n",
       " ('better', 0.47997018694877625),\n",
       " ('alright', 0.4648732542991638),\n",
       " ('lot', 0.46387770771980286)]"
      ]
     },
     "execution_count": 9,
     "metadata": {},
     "output_type": "execute_result"
    }
   ],
   "source": [
    "# getting the most similar words\n",
    "models.wv.most_similar(\"good\")"
   ]
  },
  {
   "cell_type": "code",
   "execution_count": 10,
   "metadata": {},
   "outputs": [
    {
     "name": "stderr",
     "output_type": "stream",
     "text": [
      "Calculating Average Word2Vec: 100%|██████████| 50000/50000 [03:32<00:00, 234.95it/s]\n"
     ]
    }
   ],
   "source": [
    "import numpy as np\n",
    "from tqdm import tqdm\n",
    "\n",
    "\n",
    "def avg_word2vec_with_progress(corpus, models):\n",
    "    avg_word2vec = []\n",
    "\n",
    "    # Use tqdm to add a progress bar to the loop\n",
    "    for sentence in tqdm(corpus, desc=\"Calculating Average Word2Vec\"):\n",
    "        vector = np.zeros(300)\n",
    "        count = 0\n",
    "        for word in sentence.split():\n",
    "            if word in models.wv.index_to_key:\n",
    "                vector += models.wv[word]\n",
    "                count += 1\n",
    "        if count != 0:\n",
    "            vector /= count\n",
    "        avg_word2vec.append(vector)\n",
    "\n",
    "    return avg_word2vec\n",
    "\n",
    "avg_word2vec_result = avg_word2vec_with_progress(corpus, models)"
   ]
  },
  {
   "cell_type": "code",
   "execution_count": 11,
   "metadata": {},
   "outputs": [],
   "source": [
    "y = data[\"sentiment\"]\n"
   ]
  },
  {
   "cell_type": "code",
   "execution_count": 13,
   "metadata": {},
   "outputs": [
    {
     "name": "stderr",
     "output_type": "stream",
     "text": [
      "Intel(R) Extension for Scikit-learn* enabled (https://github.com/intel/scikit-learn-intelex)\n",
      "Applying ML Algorithms: 100%|██████████| 3/3 [00:33<00:00, 11.13s/it]"
     ]
    },
    {
     "name": "stdout",
     "output_type": "stream",
     "text": [
      "Model: Random Forest\n",
      "Accuracy: 0.8613\n",
      "Classification Report:\n",
      " {'0': {'precision': 0.8760521885521886, 'recall': 0.8391453336020963, 'f1-score': 0.8572016884587665, 'support': 4961.0}, '1': {'precision': 0.8479420731707317, 'recall': 0.883111728517563, 'f1-score': 0.8651696315738311, 'support': 5039.0}, 'accuracy': 0.8613, 'macro avg': {'precision': 0.8619971308614601, 'recall': 0.8611285310598297, 'f1-score': 0.8611856600162988, 'support': 10000.0}, 'weighted avg': {'precision': 0.8618875014114725, 'recall': 0.8613, 'f1-score': 0.8612167349944475, 'support': 10000.0}}\n",
      "--------------------------------------------------\n",
      "Model: Support Vector Machine\n",
      "Accuracy: 0.8820\n",
      "Classification Report:\n",
      " {'0': {'precision': 0.8858950806286997, 'recall': 0.8748236242693005, 'f1-score': 0.8803245436105477, 'support': 4961.0}, '1': {'precision': 0.8782591648696334, 'recall': 0.8890652907322881, 'f1-score': 0.8836291913214991, 'support': 5039.0}, 'accuracy': 0.882, 'macro avg': {'precision': 0.8820771227491666, 'recall': 0.8819444575007943, 'f1-score': 0.8819768674660233, 'support': 10000.0}, 'weighted avg': {'precision': 0.8820473426777062, 'recall': 0.882, 'f1-score': 0.8819897555920961, 'support': 10000.0}}\n",
      "--------------------------------------------------\n",
      "Model: Logistic Regression\n",
      "Accuracy: 0.8928\n",
      "Classification Report:\n",
      " {'0': {'precision': 0.8959478721238037, 'recall': 0.8869179600886918, 'f1-score': 0.8914100486223663, 'support': 4961.0}, '1': {'precision': 0.8897622322656711, 'recall': 0.8985909902758484, 'f1-score': 0.8941548183254345, 'support': 5039.0}, 'accuracy': 0.8928, 'macro avg': {'precision': 0.8928550521947374, 'recall': 0.8927544751822701, 'f1-score': 0.8927824334739004, 'support': 10000.0}, 'weighted avg': {'precision': 0.8928309281992907, 'recall': 0.8928, 'f1-score': 0.8927931380757423, 'support': 10000.0}}\n",
      "--------------------------------------------------\n"
     ]
    },
    {
     "name": "stderr",
     "output_type": "stream",
     "text": [
      "\n"
     ]
    }
   ],
   "source": [
    "from sklearnex import patch_sklearn\n",
    "patch_sklearn()\n",
    "import numpy as np\n",
    "from sklearn.model_selection import train_test_split\n",
    "from sklearn.preprocessing import LabelEncoder\n",
    "from sklearn.ensemble import RandomForestClassifier\n",
    "from sklearn.svm import SVC\n",
    "from sklearn.metrics import accuracy_score, classification_report\n",
    "from sklearn.linear_model import LogisticRegression\n",
    "from tqdm import tqdm\n",
    "\n",
    "\n",
    "def apply_ml_algorithms(X, y):\n",
    "    # Split the data into training and testing sets\n",
    "    X_train, X_test, y_train, y_test = train_test_split(\n",
    "        X, y, test_size=0.2, random_state=42\n",
    "    )\n",
    "\n",
    "    # Label encoding for the target variable\n",
    "    le = LabelEncoder()\n",
    "    y_train_encoded = le.fit_transform(y_train)\n",
    "    y_test_encoded = le.transform(y_test)\n",
    "\n",
    "    # Define machine learning models\n",
    "    models = {\n",
    "        \"Random Forest\": RandomForestClassifier(n_estimators=100, random_state=42),\n",
    "        \"Support Vector Machine\": SVC(kernel=\"linear\", C=1.0, random_state=42),\n",
    "        \"Logistic Regression\": LogisticRegression(max_iter=1000, random_state=42),\n",
    "    }\n",
    "\n",
    "    results = {}\n",
    "\n",
    "    # Apply each machine learning algorithm\n",
    "    for model_name, model in tqdm(models.items(), desc=\"Applying ML Algorithms\"):\n",
    "        model.fit(X_train, y_train_encoded)\n",
    "        predictions = model.predict(X_test)\n",
    "\n",
    "        # Evaluate the model\n",
    "        accuracy = accuracy_score(y_test_encoded, predictions)\n",
    "        report = classification_report(y_test_encoded, predictions, output_dict=True)\n",
    "\n",
    "        results[model_name] = {\"accuracy\": accuracy, \"classification_report\": report}\n",
    "\n",
    "    return results\n",
    "\n",
    "\n",
    "# Example usage:\n",
    "# Assuming avg_word2vec_result is your feature dataset and y is your target variable\n",
    "results = apply_ml_algorithms(avg_word2vec_result, y)\n",
    "\n",
    "# Print results\n",
    "for model_name, result in results.items():\n",
    "    print(f\"Model: {model_name}\")\n",
    "    print(f\"Accuracy: {result['accuracy']:.4f}\")\n",
    "    print(\"Classification Report:\\n\", result[\"classification_report\"])\n",
    "    print(\"-\" * 50)"
   ]
  },
  {
   "cell_type": "code",
   "execution_count": null,
   "metadata": {},
   "outputs": [],
   "source": []
  }
 ],
 "metadata": {
  "kernelspec": {
   "display_name": "torch.nlp",
   "language": "python",
   "name": "python3"
  },
  "language_info": {
   "codemirror_mode": {
    "name": "ipython",
    "version": 3
   },
   "file_extension": ".py",
   "mimetype": "text/x-python",
   "name": "python",
   "nbconvert_exporter": "python",
   "pygments_lexer": "ipython3",
   "version": "3.9.18"
  }
 },
 "nbformat": 4,
 "nbformat_minor": 2
}
